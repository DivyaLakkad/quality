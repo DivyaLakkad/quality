{
 "metadata": {
  "language_info": {
   "codemirror_mode": {
    "name": "ipython",
    "version": 3
   },
   "file_extension": ".py",
   "mimetype": "text/x-python",
   "name": "python",
   "nbconvert_exporter": "python",
   "pygments_lexer": "ipython3",
   "version": "3.9.0-final"
  },
  "orig_nbformat": 2,
  "kernelspec": {
   "name": "python3",
   "display_name": "Python 3.9.0 64-bit",
   "metadata": {
    "interpreter": {
     "hash": "000d7c38b206a8e2af4de2a2957882e99d8b782a2ba776ccf47fcdf900c2e8f2"
    }
   }
  }
 },
 "nbformat": 4,
 "nbformat_minor": 2,
 "cells": [
  {
   "cell_type": "code",
   "execution_count": null,
   "metadata": {},
   "outputs": [],
   "source": [
    "import pandas as pd\n",
    "import numpy\n",
    "numpy.datetime_as_string\n",
    "from openpyxl import load_workbook\n",
    "from docx import Document\n",
    "from docx.shared import Inches\n",
    "import os\n",
    "new_list = []\n",
    "new_df = pd.read_excel('NEW_FILE.xlsx', engine=\"openpyxl\")\n",
    "new_df.head(5)"
   ]
  },
  {
   "source": [
    "old_df = pd.read_excel('OLD_FILE.xlsx',engine=\"openpyxl\")\n"
   ],
   "cell_type": "code",
   "metadata": {},
   "execution_count": null,
   "outputs": []
  },
  {
   "cell_type": "code",
   "execution_count": null,
   "metadata": {},
   "outputs": [],
   "source": [
    "old_df.head(5)"
   ]
  },
  {
   "cell_type": "code",
   "execution_count": 52,
   "metadata": {},
   "outputs": [
    {
     "output_type": "execute_result",
     "data": {
      "text/plain": [
       "      ID          Start time     Completion time                Email  \\\n",
       "47  15.0 2020-11-03 07:15:15 2020-11-03 12:04:25    jamiehu@graham.ca   \n",
       "48  49.0 2020-11-18 13:56:18 2020-11-18 14:03:56  stevenbas@graham.ca   \n",
       "\n",
       "              Name Report Date Type of occurrence: Project No.  \\\n",
       "47  Jamie Didychuk  2020-03-11                 FSR      S20047   \n",
       "48    Steven Basso  2020-11-17                 FSR      S19220   \n",
       "\n",
       "                                  Project Description    Business Unit  ...  \\\n",
       "47  Fabrication - Orano McClean Lake 55kt Upgrade ...  Mining & Energy  ...   \n",
       "48           Cigar Lake Underground Header Expansion   Mining & Energy  ...   \n",
       "\n",
       "    QPR_W1 Severity Level QPR_W2 CII_Wi Date Closed.  \\\n",
       "47     2.0            Low    1.0    2.0   2020-03-12   \n",
       "48     1.0            Low    1.0    1.0   2020-11-18   \n",
       "\n",
       "                                           Attachment  \\\n",
       "47  https://grahamcanada.sharepoint.com/sites/Indu...   \n",
       "48  https://grahamcanada.sharepoint.com/sites/Indu...   \n",
       "\n",
       "                           Division  Most obvious cause Unnamed: 27  \\\n",
       "47                              NaN                 NaN         NaN   \n",
       "48  03 30 00 Cast-in-Place Concrete         Workmanship         NaN   \n",
       "\n",
       "    Unnamed: 28  \n",
       "47          NaN  \n",
       "48          NaN  \n",
       "\n",
       "[2 rows x 29 columns]"
      ],
      "text/html": "<div>\n<style scoped>\n    .dataframe tbody tr th:only-of-type {\n        vertical-align: middle;\n    }\n\n    .dataframe tbody tr th {\n        vertical-align: top;\n    }\n\n    .dataframe thead th {\n        text-align: right;\n    }\n</style>\n<table border=\"1\" class=\"dataframe\">\n  <thead>\n    <tr style=\"text-align: right;\">\n      <th></th>\n      <th>ID</th>\n      <th>Start time</th>\n      <th>Completion time</th>\n      <th>Email</th>\n      <th>Name</th>\n      <th>Report Date</th>\n      <th>Type of occurrence:</th>\n      <th>Project No.</th>\n      <th>Project Description</th>\n      <th>Business Unit</th>\n      <th>...</th>\n      <th>QPR_W1</th>\n      <th>Severity Level</th>\n      <th>QPR_W2</th>\n      <th>CII_Wi</th>\n      <th>Date Closed.</th>\n      <th>Attachment</th>\n      <th>Division</th>\n      <th>Most obvious cause</th>\n      <th>Unnamed: 27</th>\n      <th>Unnamed: 28</th>\n    </tr>\n  </thead>\n  <tbody>\n    <tr>\n      <th>47</th>\n      <td>15.0</td>\n      <td>2020-11-03 07:15:15</td>\n      <td>2020-11-03 12:04:25</td>\n      <td>jamiehu@graham.ca</td>\n      <td>Jamie Didychuk</td>\n      <td>2020-03-11</td>\n      <td>FSR</td>\n      <td>S20047</td>\n      <td>Fabrication - Orano McClean Lake 55kt Upgrade ...</td>\n      <td>Mining &amp; Energy</td>\n      <td>...</td>\n      <td>2.0</td>\n      <td>Low</td>\n      <td>1.0</td>\n      <td>2.0</td>\n      <td>2020-03-12</td>\n      <td>https://grahamcanada.sharepoint.com/sites/Indu...</td>\n      <td>NaN</td>\n      <td>NaN</td>\n      <td>NaN</td>\n      <td>NaN</td>\n    </tr>\n    <tr>\n      <th>48</th>\n      <td>49.0</td>\n      <td>2020-11-18 13:56:18</td>\n      <td>2020-11-18 14:03:56</td>\n      <td>stevenbas@graham.ca</td>\n      <td>Steven Basso</td>\n      <td>2020-11-17</td>\n      <td>FSR</td>\n      <td>S19220</td>\n      <td>Cigar Lake Underground Header Expansion</td>\n      <td>Mining &amp; Energy</td>\n      <td>...</td>\n      <td>1.0</td>\n      <td>Low</td>\n      <td>1.0</td>\n      <td>1.0</td>\n      <td>2020-11-18</td>\n      <td>https://grahamcanada.sharepoint.com/sites/Indu...</td>\n      <td>03 30 00 Cast-in-Place Concrete</td>\n      <td>Workmanship</td>\n      <td>NaN</td>\n      <td>NaN</td>\n    </tr>\n  </tbody>\n</table>\n<p>2 rows × 29 columns</p>\n</div>"
     },
     "metadata": {},
     "execution_count": 52
    }
   ],
   "source": [
    "diff_df = pd.concat([new_df,old_df]).drop_duplicates(keep=False)\n",
    "diff_df.head()\n",
    "\n"
   ]
  },
  {
   "cell_type": "code",
   "execution_count": null,
   "metadata": {},
   "outputs": [],
   "source": [
    "new_df.reset_index(drop=True)\n"
   ]
  },
  {
   "cell_type": "code",
   "execution_count": null,
   "metadata": {},
   "outputs": [],
   "source": [
    "car = ['Project No.','Project Description','Report Date','Name','Occurrence No.','Description.']\n",
    "fsr = ['Project No.','Project Description','Report Date','Name','Occurrence No.','Description.']\n",
    "ncr = ['Project No.','Project Description','Occurrence No.','Description.']\n",
    "par = ['Project No.','Project Description','Report Date','Name','Occurrence No.','Description.']\n",
    "qsr = ['Project No.','Project Description','Report Date','Name','Occurrence No.','Type','Discipline','Description.']"
   ]
  },
  {
   "cell_type": "code",
   "execution_count": null,
   "metadata": {},
   "outputs": [],
   "source": [
    "CAR= [diff_df[label].values[0] for label in car if label in diff_df]\n",
    "FSR= [diff_df[label].values[0] for label in fsr if label in diff_df]\n",
    "NCR= [diff_df[label].values[0] for label in ncr if label in diff_df]\n",
    "PAR= [diff_df[label].values[0] for label in par if label in diff_df]\n",
    "QSR= [diff_df[label].values[0] for label in qsr if label in diff_df]\n",
    "print(CAR)"
   ]
  },
  {
   "cell_type": "code",
   "execution_count": null,
   "metadata": {},
   "outputs": [],
   "source": [
    "import docx\n",
    "\n",
    "def getText(filename):\n",
    "    doc = docx.Documnet(filename)   \n",
    "    fullText = []\n",
    "    for para in doc.paragraphs:\n",
    "        fullText.append(para.text)\n",
    "    return '\\n'.join(fullText)"
   ]
  },
  {
   "cell_type": "code",
   "execution_count": 76,
   "metadata": {},
   "outputs": [
    {
     "output_type": "stream",
     "name": "stdout",
     "text": [
      "0\n1\n"
     ]
    }
   ],
   "source": [
    "i = diff_df.shape[0]\n",
    "for x in range(i):\n",
    "    print(x)"
   ]
  },
  {
   "cell_type": "code",
   "execution_count": 82,
   "metadata": {},
   "outputs": [
    {
     "output_type": "stream",
     "name": "stdout",
     "text": [
      "6\n",
      "S20047\n",
      "Fabrication - Orano McClean Lake 55kt Upgrade Construction\n",
      "2020-03-11T00:00:00.000000000\n",
      "Jamie Didychuk\n",
      "1.0\n",
      "Graham received laterals from a supplier that were fabricated with the wrong grade of stainless steel material and also had severe warpage due to fabrication. jkOBSERVED WORKERS MOVING AN AERIAL WORK PLATFORM INTO POSITION FOR ELEVATED WORK ON STRUCTRE CA10. WORKERS HAD 2 ACTIVE SPOTTERS STOPPING FOOT TRAFFIC IN THE IMMEDIATE AREA AND ALSO PLACED DILINEATORS AND YELLOW CAUTION FLAG AROUND THE WORK AREA.OBSERVED WORKERS MOVING AN AERIAL WORK PLATFORM INTO POSITION FOR ELEVATED WORK ON STRUCTRE CA10. WORKERS HAD 2 ACTIVE SPOTTERS STOPPING FOOT TRAFFIC IN THE IMMEDIATE AREA AND ALSO PLACED DILINEATORS AND YELLOW CAUTION FLAG AROUND THE WORK AREA.OBSERVED WORKERS MOVING AN AERIAL WORK PLATFORM INTO POSITION FOR ELEVATED WORK ON STRUCTRE CA10. WORKERS HAD 2 ACTIVE SPOTTERS STOPPING FOOT TRAFFIC IN THE IMMEDIATE AREA AND ALSO PLACED DILINEATORS AND YELLOW CAUTION FLAG AROUND THE WORK AREA.OBSERVED WORKERS MOVING AN AERIAL WORK PLATFORM INTO POSITION FOR ELEVATED WORK ON STRUCTRE CA10. WORKERS HAD 2 ACTIVE SPOTTERS STOPPING FOOT TRAFFIC IN THE IMMEDIATE AREA AND ALSO PLACED DILINEATORS AND YELLOW CAUTION FLAG AROUND THE WORK AREA.Graham received laterals from a supplier that were fabricated with the wrong grade of stainless steel material and also had severe warpage due to fabrication. jkOBSERVED WORKERS MOVING AN AERIAL WORK PLATFORM INTO POSITION FOR ELEVATED WORK ON STRUCTRE CA10. WORKERS HAD 2 ACTIVE SPOTTERS STOPPING FOOT TRAFFIC IN THE IMMEDIATE AREA AND ALSO PLACED DILINEATORS AND YELLOW CAUTION FLAG AROUND THE WORK AREA.OBSERVED WORKERS MOVING AN AERIAL WORK PLATFORM INTO POSITION FOR ELEVATED WORK ON STRUCTRE CA10. WORKERS HAD 2 ACTIVE SPOTTERS STOPPING FOOT TRAFFIC IN THE IMMEDIATE AREA AND ALSO PLACED DILINEATORS AND YELLOW CAUTION FLAG AROUND THE WORK AREA.OBSERVED WORKERS MOVING AN AERIAL WORK PLATFORM INTO POSITION FOR ELEVATED WORK ON STRUCTRE CA10. WORKERS HAD 2 ACTIVE SPOTTERS STOPPING FOOT TRAFFIC IN THE IMMEDIATE AREA AND ALSO PLACED DILINEATORS AND YELLOW CAUTION FLAG AROUND THE WORK AREA.OBSERVED WORKERS MOVING AN AERIAL WORK PLATFORM INTO POSITION FOR ELEVATED WORK ON STRUCTRE CA10. WORKERS HAD 2 ACTIVE SPOTTERS STOPPING FOOT TRAFFIC IN THE IMMEDIATE AREA AND ALSO PLACED DILINEATORS AND YELLOW CAUTION FLAG AROUND THE WORK AREA.\n",
      "100%|██████████| 1/1 [00:01<00:00,  1.32s/it]6\n",
      "S19220\n",
      "Cigar Lake Underground Header Expansion \n",
      "2020-11-17T00:00:00.000000000\n",
      "Steven Basso\n",
      "1.0\n",
      "Client poured a concrete sill for Graham to build a rail system on at an incorrect elevation.\n",
      "\n",
      "\n",
      "  0%|          | 0/1 [00:00<?, ?it/s]\u001b[A\u001b[A"
     ]
    },
    {
     "output_type": "error",
     "ename": "AttributeError",
     "evalue": "Word.Application.Documents",
     "traceback": [
      "\u001b[1;31m---------------------------------------------------------------------------\u001b[0m",
      "\u001b[1;31mAttributeError\u001b[0m                            Traceback (most recent call last)",
      "\u001b[1;32m<ipython-input-82-46d3ceca86ed>\u001b[0m in \u001b[0;36m<module>\u001b[1;34m\u001b[0m\n\u001b[0;32m     44\u001b[0m \u001b[1;33m\u001b[0m\u001b[0m\n\u001b[0;32m     45\u001b[0m     \u001b[0mdocument\u001b[0m\u001b[1;33m.\u001b[0m\u001b[0msave\u001b[0m\u001b[1;33m(\u001b[0m\u001b[0mstr\u001b[0m\u001b[1;33m(\u001b[0m\u001b[0mdiff_df\u001b[0m\u001b[1;33m[\u001b[0m\u001b[1;34m'Name'\u001b[0m\u001b[1;33m]\u001b[0m\u001b[1;33m.\u001b[0m\u001b[0mvalues\u001b[0m\u001b[1;33m[\u001b[0m\u001b[0mx\u001b[0m\u001b[1;33m]\u001b[0m\u001b[1;33m)\u001b[0m \u001b[1;33m+\u001b[0m \u001b[1;34m'.docx'\u001b[0m\u001b[1;33m)\u001b[0m\u001b[1;33m\u001b[0m\u001b[1;33m\u001b[0m\u001b[0m\n\u001b[1;32m---> 46\u001b[1;33m     \u001b[0mconvert\u001b[0m\u001b[1;33m(\u001b[0m\u001b[0mstr\u001b[0m\u001b[1;33m(\u001b[0m\u001b[0mdiff_df\u001b[0m\u001b[1;33m[\u001b[0m\u001b[1;34m'Name'\u001b[0m\u001b[1;33m]\u001b[0m\u001b[1;33m.\u001b[0m\u001b[0mvalues\u001b[0m\u001b[1;33m[\u001b[0m\u001b[0mx\u001b[0m\u001b[1;33m]\u001b[0m\u001b[1;33m)\u001b[0m \u001b[1;33m+\u001b[0m\u001b[1;34m\".docx\"\u001b[0m\u001b[1;33m)\u001b[0m\u001b[1;33m\u001b[0m\u001b[1;33m\u001b[0m\u001b[0m\n\u001b[0m\u001b[0;32m     47\u001b[0m     \u001b[1;31m#convert(\"test.docx\",\"output.pdf\")\u001b[0m\u001b[1;33m\u001b[0m\u001b[1;33m\u001b[0m\u001b[1;33m\u001b[0m\u001b[0m\n",
      "\u001b[1;32m~\\AppData\\Roaming\\Python\\Python39\\site-packages\\docx2pdf\\__init__.py\u001b[0m in \u001b[0;36mconvert\u001b[1;34m(input_path, output_path, keep_active)\u001b[0m\n\u001b[0;32m    104\u001b[0m         \u001b[1;32mreturn\u001b[0m \u001b[0mmacos\u001b[0m\u001b[1;33m(\u001b[0m\u001b[0mpaths\u001b[0m\u001b[1;33m,\u001b[0m \u001b[0mkeep_active\u001b[0m\u001b[1;33m)\u001b[0m\u001b[1;33m\u001b[0m\u001b[1;33m\u001b[0m\u001b[0m\n\u001b[0;32m    105\u001b[0m     \u001b[1;32melif\u001b[0m \u001b[0msys\u001b[0m\u001b[1;33m.\u001b[0m\u001b[0mplatform\u001b[0m \u001b[1;33m==\u001b[0m \u001b[1;34m\"win32\"\u001b[0m\u001b[1;33m:\u001b[0m\u001b[1;33m\u001b[0m\u001b[1;33m\u001b[0m\u001b[0m\n\u001b[1;32m--> 106\u001b[1;33m         \u001b[1;32mreturn\u001b[0m \u001b[0mwindows\u001b[0m\u001b[1;33m(\u001b[0m\u001b[0mpaths\u001b[0m\u001b[1;33m,\u001b[0m \u001b[0mkeep_active\u001b[0m\u001b[1;33m)\u001b[0m\u001b[1;33m\u001b[0m\u001b[1;33m\u001b[0m\u001b[0m\n\u001b[0m\u001b[0;32m    107\u001b[0m     \u001b[1;32melse\u001b[0m\u001b[1;33m:\u001b[0m\u001b[1;33m\u001b[0m\u001b[1;33m\u001b[0m\u001b[0m\n\u001b[0;32m    108\u001b[0m         raise NotImplementedError(\n",
      "\u001b[1;32m~\\AppData\\Roaming\\Python\\Python39\\site-packages\\docx2pdf\\__init__.py\u001b[0m in \u001b[0;36mwindows\u001b[1;34m(paths, keep_active)\u001b[0m\n\u001b[0;32m     30\u001b[0m         \u001b[0mdocx_filepath\u001b[0m \u001b[1;33m=\u001b[0m \u001b[0mPath\u001b[0m\u001b[1;33m(\u001b[0m\u001b[0mpaths\u001b[0m\u001b[1;33m[\u001b[0m\u001b[1;34m\"input\"\u001b[0m\u001b[1;33m]\u001b[0m\u001b[1;33m)\u001b[0m\u001b[1;33m.\u001b[0m\u001b[0mresolve\u001b[0m\u001b[1;33m(\u001b[0m\u001b[1;33m)\u001b[0m\u001b[1;33m\u001b[0m\u001b[1;33m\u001b[0m\u001b[0m\n\u001b[0;32m     31\u001b[0m         \u001b[0mpdf_filepath\u001b[0m \u001b[1;33m=\u001b[0m \u001b[0mPath\u001b[0m\u001b[1;33m(\u001b[0m\u001b[0mpaths\u001b[0m\u001b[1;33m[\u001b[0m\u001b[1;34m\"output\"\u001b[0m\u001b[1;33m]\u001b[0m\u001b[1;33m)\u001b[0m\u001b[1;33m.\u001b[0m\u001b[0mresolve\u001b[0m\u001b[1;33m(\u001b[0m\u001b[1;33m)\u001b[0m\u001b[1;33m\u001b[0m\u001b[1;33m\u001b[0m\u001b[0m\n\u001b[1;32m---> 32\u001b[1;33m         \u001b[0mdoc\u001b[0m \u001b[1;33m=\u001b[0m \u001b[0mword\u001b[0m\u001b[1;33m.\u001b[0m\u001b[0mDocuments\u001b[0m\u001b[1;33m.\u001b[0m\u001b[0mOpen\u001b[0m\u001b[1;33m(\u001b[0m\u001b[0mstr\u001b[0m\u001b[1;33m(\u001b[0m\u001b[0mdocx_filepath\u001b[0m\u001b[1;33m)\u001b[0m\u001b[1;33m)\u001b[0m\u001b[1;33m\u001b[0m\u001b[1;33m\u001b[0m\u001b[0m\n\u001b[0m\u001b[0;32m     33\u001b[0m         \u001b[0mdoc\u001b[0m\u001b[1;33m.\u001b[0m\u001b[0mSaveAs\u001b[0m\u001b[1;33m(\u001b[0m\u001b[0mstr\u001b[0m\u001b[1;33m(\u001b[0m\u001b[0mpdf_filepath\u001b[0m\u001b[1;33m)\u001b[0m\u001b[1;33m,\u001b[0m \u001b[0mFileFormat\u001b[0m\u001b[1;33m=\u001b[0m\u001b[0mwdFormatPDF\u001b[0m\u001b[1;33m)\u001b[0m\u001b[1;33m\u001b[0m\u001b[1;33m\u001b[0m\u001b[0m\n\u001b[0;32m     34\u001b[0m         \u001b[0mdoc\u001b[0m\u001b[1;33m.\u001b[0m\u001b[0mClose\u001b[0m\u001b[1;33m(\u001b[0m\u001b[1;33m)\u001b[0m\u001b[1;33m\u001b[0m\u001b[1;33m\u001b[0m\u001b[0m\n",
      "\u001b[1;32m~\\AppData\\Local\\Programs\\Python\\Python39\\lib\\site-packages\\win32com\\client\\dynamic.py\u001b[0m in \u001b[0;36m__getattr__\u001b[1;34m(self, attr)\u001b[0m\n\u001b[0;32m    525\u001b[0m \u001b[1;33m\u001b[0m\u001b[0m\n\u001b[0;32m    526\u001b[0m                 \u001b[1;31m# no where else to look.\u001b[0m\u001b[1;33m\u001b[0m\u001b[1;33m\u001b[0m\u001b[1;33m\u001b[0m\u001b[0m\n\u001b[1;32m--> 527\u001b[1;33m                 \u001b[1;32mraise\u001b[0m \u001b[0mAttributeError\u001b[0m\u001b[1;33m(\u001b[0m\u001b[1;34m\"%s.%s\"\u001b[0m \u001b[1;33m%\u001b[0m \u001b[1;33m(\u001b[0m\u001b[0mself\u001b[0m\u001b[1;33m.\u001b[0m\u001b[0m_username_\u001b[0m\u001b[1;33m,\u001b[0m \u001b[0mattr\u001b[0m\u001b[1;33m)\u001b[0m\u001b[1;33m)\u001b[0m\u001b[1;33m\u001b[0m\u001b[1;33m\u001b[0m\u001b[0m\n\u001b[0m\u001b[0;32m    528\u001b[0m \u001b[1;33m\u001b[0m\u001b[0m\n\u001b[0;32m    529\u001b[0m         \u001b[1;32mdef\u001b[0m \u001b[0m__setattr__\u001b[0m\u001b[1;33m(\u001b[0m\u001b[0mself\u001b[0m\u001b[1;33m,\u001b[0m \u001b[0mattr\u001b[0m\u001b[1;33m,\u001b[0m \u001b[0mvalue\u001b[0m\u001b[1;33m)\u001b[0m\u001b[1;33m:\u001b[0m\u001b[1;33m\u001b[0m\u001b[1;33m\u001b[0m\u001b[0m\n",
      "\u001b[1;31mAttributeError\u001b[0m: Word.Application.Documents"
     ]
    }
   ],
   "source": [
    "\n",
    "from docx import Document\n",
    "from docx2pdf import convert\n",
    "i = diff_df.shape[0]\n",
    "for x in range(i):\n",
    "    pre = '{}'\n",
    "    CAR1= [diff_df[label].values[x] for label in car if label in diff_df]\n",
    "    FSR1= [diff_df[label].values[x] for label in fsr if label in diff_df]\n",
    "    NCR1= [diff_df[label].values[x] for label in ncr if label in diff_df]\n",
    "    PAR1= [diff_df[label].values[x] for label in par if label in diff_df]\n",
    "    QSR1= [diff_df[label].values[x] for label in qsr if label in diff_df]\n",
    "\n",
    "    file_name= diff_df['Type of occurrence:'].values[x]\n",
    "    document = Document(file_name+'.docx')\n",
    "\n",
    "    if file_name == 'CAR':\n",
    "        output = [diff_df[label].values[x] for label in car if label in diff_df]\n",
    "    elif file_name == 'FSR':\n",
    "        output = [diff_df[label].values[x] for label in fsr if label in diff_df]\n",
    "    elif file_name == 'NCR':\n",
    "        output = [diff_df[label].values[x] for label in ncr if label in diff_df]\n",
    "    elif file_name == 'PAR':\n",
    "        output = [diff_df[label].values[x] for label in par if label in diff_df]\n",
    "    else:\n",
    "        output = [diff_df[label].values[x] for label in qsr if label in diff_df]\n",
    "\n",
    "    length = len(output)\n",
    "    print(length)\n",
    "    tables = document.tables\n",
    "\n",
    "    for table in tables:\n",
    "        for row in table.rows:\n",
    "            for cell in row.cells:\n",
    "                for paragraph in cell.paragraphs: \n",
    "                    if len(output) != 0:\n",
    "                        to = str(output[0])\n",
    "                        if pre in paragraph.text:\n",
    "                            paragraph.text = paragraph.text.replace(pre, to)\n",
    "                            output.pop(0)\n",
    "                            print(paragraph.text)\n",
    "                        \n",
    "                    else:\n",
    "                        to = ''\n",
    "                        paragraph.text = paragraph.text.replace(pre, to)\n",
    "\n",
    "    document.save(str(diff_df['Name'].values[x]) + '.docx') \n",
    "    convert(str(diff_df['Name'].values[x]) +\".docx\")\n",
    "    #convert(\"test.docx\",\"output.pdf\") \n"
   ]
  },
  {
   "cell_type": "code",
   "execution_count": null,
   "metadata": {},
   "outputs": [],
   "source": [
    "\n",
    "# from docx import Document\n",
    "\n",
    "# pre = '{}'\n",
    "# output = ['AA','BB','CC','DD','EE','FF','GG','HH','II']\n",
    "# length = len(output)\n",
    "# document = Document('myexample.docx')\n",
    "\n",
    "# def find_replace(paragraph_keyword, draft_keyword, paragraph):\n",
    "#     if paragraph_keyword in paragraph.text:\n",
    "#         #print(\"found\")\n",
    "#         paragraph.text = paragraph.text.replace(paragraph_keyword, draft_keyword)\n",
    "# tables = document.tables\n",
    "\n",
    "# for table in tables:\n",
    "#     for row in table.rows:\n",
    "#         for cell in row.cells:\n",
    "#             for paragraph in cell.paragraphs: \n",
    "#                 if len(output) != 0:\n",
    "#                     to = output[0]\n",
    "#                     if pre in paragraph.text:\n",
    "#                         paragraph.text = paragraph.text.replace(pre, to)\n",
    "#                         output.pop(0)\n",
    "#                         print(paragraph.text)\n",
    "                    \n",
    "#                 else:\n",
    "#                     to = ''\n",
    "#                     paragraph.text = paragraph.text.replace(pre, to)\n",
    "\n",
    "# document.save('myexample.docx')"
   ]
  },
  {
   "cell_type": "code",
   "execution_count": 159,
   "metadata": {},
   "outputs": [],
   "source": [
    "from datetime import date, timedelta\n",
    "from email.message import EmailMessage\n",
    "\n",
    "import smtplib \n",
    "import base64\n",
    "import email\n",
    "import imaplib\n",
    "from email.mime.multipart import MIMEMultipart \n",
    "from email.mime.text import MIMEText \n",
    "from email.mime.base import MIMEBase \n",
    "from email import encoders \n",
    "import email\n",
    "def email_auto_script(email_to, subject, body, file_path):\n",
    "    print('Sending Email!!!')\n",
    "\n",
    "    gmail_user = \"graham.scripting@gmail.com\"\n",
    "    gmail_password = \"directorchris\"\n",
    "\n",
    "    try:\n",
    "        msg = EmailMessage()\n",
    "        msg[\"Subject\"] = subject\n",
    "        msg[\"From\"] = gmail_user\n",
    "        msg[\"To\"] = email_to\n",
    "        msg.set_content(body)\n",
    "        \n",
    "        for file in file_path:\n",
    "            print(file)\n",
    "            with open(file, \"rb\") as f:\n",
    "                file_data = f.read()\n",
    "                file_name = os.path.split(file)\n",
    "                file_name = file_name[-1]\n",
    "                msg.add_attachment(\n",
    "                    file_data,\n",
    "                    maintype=\"application\",\n",
    "                    subtype=\"vnd.openxmlformats-officedocument.spreadsheetml.sheet\",\n",
    "                    filename=file_name,\n",
    "                )\n",
    "        \n",
    "        with smtplib.SMTP_SSL(\"smtp.gmail.com\", 465) as smtp:\n",
    "            smtp.login(gmail_user, gmail_password)\n",
    "            smtp.send_message(msg)\n",
    "            print(\"Email sent!\")\n",
    "    except:\n",
    "        print(\"Something went wrong...Email not Sent.\")"
   ]
  },
  {
   "cell_type": "code",
   "execution_count": 160,
   "metadata": {},
   "outputs": [
    {
     "output_type": "stream",
     "name": "stdout",
     "text": [
      "Sending Email!!!\n",
      "C:\\Users\\divyal\\Desktop\\projects\\xl\\NEW_FILE.xlsx\n",
      "Something went wrong...Email not Sent.\n"
     ]
    }
   ],
   "source": [
    "file_path = []\n",
    "email_to = 'divya.lakkad@graham.ca'\n",
    "subject = 'Test 1'\n",
    "body = \"Hey Divya!\\nThis is a test to see if your function works!!\\n\\nRegards\\nGraham Scripting\"\n",
    "file_path = [r'C:\\Users\\divyal\\Desktop\\projects\\xl\\NEW_FILE.xlsx']\n",
    "\n",
    "email_auto_script(email_to, subject, body, file_path)"
   ]
  },
  {
   "cell_type": "code",
   "execution_count": 151,
   "metadata": {},
   "outputs": [
    {
     "output_type": "error",
     "ename": "SMTPConnectError",
     "evalue": "(-1, b'\\x02\\x01Z\\x15\\x03\\x03\\x00\\x02\\x01\\x00')",
     "traceback": [
      "\u001b[1;31m---------------------------------------------------------------------------\u001b[0m",
      "\u001b[1;31mSMTPConnectError\u001b[0m                          Traceback (most recent call last)",
      "\u001b[1;32m<ipython-input-151-dfa6876c50ec>\u001b[0m in \u001b[0;36m<module>\u001b[1;34m\u001b[0m\n\u001b[0;32m     45\u001b[0m \u001b[1;33m\u001b[0m\u001b[0m\n\u001b[0;32m     46\u001b[0m \u001b[1;31m# creates SMTP session\u001b[0m\u001b[1;33m\u001b[0m\u001b[1;33m\u001b[0m\u001b[1;33m\u001b[0m\u001b[0m\n\u001b[1;32m---> 47\u001b[1;33m \u001b[0ms\u001b[0m \u001b[1;33m=\u001b[0m \u001b[0msmtplib\u001b[0m\u001b[1;33m.\u001b[0m\u001b[0mSMTP\u001b[0m\u001b[1;33m(\u001b[0m\u001b[1;34m'smtp.mail.yahoo.com'\u001b[0m\u001b[1;33m,\u001b[0m \u001b[1;36m465\u001b[0m\u001b[1;33m)\u001b[0m\u001b[1;33m\u001b[0m\u001b[1;33m\u001b[0m\u001b[0m\n\u001b[0m\u001b[0;32m     48\u001b[0m \u001b[1;33m\u001b[0m\u001b[0m\n\u001b[0;32m     49\u001b[0m \u001b[1;31m# start TLS for security\u001b[0m\u001b[1;33m\u001b[0m\u001b[1;33m\u001b[0m\u001b[1;33m\u001b[0m\u001b[0m\n",
      "\u001b[1;32m~\\AppData\\Local\\Programs\\Python\\Python39\\lib\\smtplib.py\u001b[0m in \u001b[0;36m__init__\u001b[1;34m(self, host, port, local_hostname, timeout, source_address)\u001b[0m\n\u001b[0;32m    254\u001b[0m             \u001b[1;32mif\u001b[0m \u001b[0mcode\u001b[0m \u001b[1;33m!=\u001b[0m \u001b[1;36m220\u001b[0m\u001b[1;33m:\u001b[0m\u001b[1;33m\u001b[0m\u001b[1;33m\u001b[0m\u001b[0m\n\u001b[0;32m    255\u001b[0m                 \u001b[0mself\u001b[0m\u001b[1;33m.\u001b[0m\u001b[0mclose\u001b[0m\u001b[1;33m(\u001b[0m\u001b[1;33m)\u001b[0m\u001b[1;33m\u001b[0m\u001b[1;33m\u001b[0m\u001b[0m\n\u001b[1;32m--> 256\u001b[1;33m                 \u001b[1;32mraise\u001b[0m \u001b[0mSMTPConnectError\u001b[0m\u001b[1;33m(\u001b[0m\u001b[0mcode\u001b[0m\u001b[1;33m,\u001b[0m \u001b[0mmsg\u001b[0m\u001b[1;33m)\u001b[0m\u001b[1;33m\u001b[0m\u001b[1;33m\u001b[0m\u001b[0m\n\u001b[0m\u001b[0;32m    257\u001b[0m         \u001b[1;32mif\u001b[0m \u001b[0mlocal_hostname\u001b[0m \u001b[1;32mis\u001b[0m \u001b[1;32mnot\u001b[0m \u001b[1;32mNone\u001b[0m\u001b[1;33m:\u001b[0m\u001b[1;33m\u001b[0m\u001b[1;33m\u001b[0m\u001b[0m\n\u001b[0;32m    258\u001b[0m             \u001b[0mself\u001b[0m\u001b[1;33m.\u001b[0m\u001b[0mlocal_hostname\u001b[0m \u001b[1;33m=\u001b[0m \u001b[0mlocal_hostname\u001b[0m\u001b[1;33m\u001b[0m\u001b[1;33m\u001b[0m\u001b[0m\n",
      "\u001b[1;31mSMTPConnectError\u001b[0m: (-1, b'\\x02\\x01Z\\x15\\x03\\x03\\x00\\x02\\x01\\x00')"
     ]
    }
   ],
   "source": [
    "# import smtplib \n",
    "# from email.mime.multipart import MIMEMultipart \n",
    "# from email.mime.text import MIMEText \n",
    "# from email.mime.base import MIMEBase \n",
    "# from email import encoders \n",
    "   \n",
    "# fromaddr = \"lakkaddivya123@yahoo.com\"\n",
    "# toaddr = \"divya.lakkad@graham.ca\"\n",
    "   \n",
    "# # instance of MIMEMultipart \n",
    "# msg = MIMEMultipart() \n",
    "  \n",
    "# # storing the senders email address   \n",
    "# msg['From'] = fromaddr \n",
    "  \n",
    "# # storing the receivers email address  \n",
    "# msg['To'] = toaddr \n",
    "  \n",
    "# # storing the subject  \n",
    "# msg['Subject'] = \"Subject of the Mail\"\n",
    "  \n",
    "# # string to store the body of the mail \n",
    "# body = \"Body_of_the_mail\"\n",
    "  \n",
    "# # attach the body with the msg instance \n",
    "# msg.attach(MIMEText(body, 'plain')) \n",
    "  \n",
    "# # open the file to be sent  \n",
    "# filename = \"abc.pdf\"\n",
    "# attachment = open(r'C:\\Users\\divyal\\Desktop\\projects\\xl\\abc.pdf', \"rb\") \n",
    "  \n",
    "# # instance of MIMEBase and named as p \n",
    "# p = MIMEBase('application', 'octet-stream') \n",
    "  \n",
    "# # To change the payload into encoded form \n",
    "# p.set_payload((attachment).read()) \n",
    "  \n",
    "# # encode into base64 \n",
    "# encoders.encode_base64(p) \n",
    "   \n",
    "# p.add_header('Content-Disposition', \"attachment; filename= %s\" % filename) \n",
    "  \n",
    "# # attach the instance 'p' to instance 'msg' \n",
    "# msg.attach(p) \n",
    "  \n",
    "# # creates SMTP session \n",
    "# s = smtplib.SMTP('smtp.mail.yahoo.com', 465) \n",
    "  \n",
    "# # start TLS for security \n",
    "# s.starttls() \n",
    "  \n",
    "# # Authentication \n",
    "# s.login(fromaddr, \"8073565501\") \n",
    "  \n",
    "# # Converts the Multipart msg into a string \n",
    "# text = msg.as_string() \n",
    "  \n",
    "# # sending the mail \n",
    "# s.sendmail(fromaddr, toaddr, text) \n",
    "  \n",
    "# # terminating the session \n",
    "# s.quit() "
   ]
  }
 ]
}