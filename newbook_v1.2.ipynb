{
 "metadata": {
  "language_info": {
   "codemirror_mode": {
    "name": "ipython",
    "version": 3
   },
   "file_extension": ".py",
   "mimetype": "text/x-python",
   "name": "python",
   "nbconvert_exporter": "python",
   "pygments_lexer": "ipython3",
   "version": "3.9.0-final"
  },
  "orig_nbformat": 2,
  "kernelspec": {
   "name": "python3",
   "display_name": "Python 3.9.0 64-bit",
   "metadata": {
    "interpreter": {
     "hash": "000d7c38b206a8e2af4de2a2957882e99d8b782a2ba776ccf47fcdf900c2e8f2"
    }
   }
  }
 },
 "nbformat": 4,
 "nbformat_minor": 2,
 "cells": [
  {
   "cell_type": "code",
   "execution_count": null,
   "metadata": {},
   "outputs": [],
   "source": [
    "import pandas as pd\n",
    "import numpy\n",
    "numpy.datetime_as_string\n",
    "from openpyxl import load_workbook\n",
    "from docx import Document\n",
    "from docx.shared import Inches\n",
    "import os\n",
    "new_list = []\n",
    "new_df = pd.read_excel('NEW_FILE.xlsx', engine=\"openpyxl\")\n",
    "new_df.head(5)"
   ]
  },
  {
   "source": [
    "old_df = pd.read_excel('OLD_FILE.xlsx',engine=\"openpyxl\")\n"
   ],
   "cell_type": "code",
   "metadata": {},
   "execution_count": null,
   "outputs": []
  },
  {
   "cell_type": "code",
   "execution_count": null,
   "metadata": {},
   "outputs": [],
   "source": [
    "old_df.head(5)"
   ]
  },
  {
   "cell_type": "code",
   "execution_count": null,
   "metadata": {},
   "outputs": [],
   "source": [
    "diff_df = pd.concat([new_df,old_df]).drop_duplicates(keep=False)\n",
    "diff_df.head()\n",
    "\n"
   ]
  },
  {
   "cell_type": "code",
   "execution_count": null,
   "metadata": {},
   "outputs": [],
   "source": [
    "new_df.reset_index(drop=True)\n"
   ]
  },
  {
   "cell_type": "code",
   "execution_count": null,
   "metadata": {},
   "outputs": [],
   "source": [
    "car = ['Project No.','Project Description','Report Date','Name','Occurrence No.','Description.']\n",
    "fsr = ['Project No.','Project Description','Report Date','Name','Occurrence No.','Description.']\n",
    "ncr = ['Project No.','Project Description','Occurrence No.','Description.']\n",
    "par = ['Project No.','Project Description','Report Date','Name','Occurrence No.','Description.']\n",
    "qsr = ['Project No.','Project Description','Report Date','Name','Occurrence No.','Type','Discipline','Description.']"
   ]
  },
  {
   "cell_type": "code",
   "execution_count": null,
   "metadata": {},
   "outputs": [],
   "source": [
    "CAR= [diff_df[label].values[0] for label in car if label in diff_df]\n",
    "FSR= [diff_df[label].values[0] for label in fsr if label in diff_df]\n",
    "NCR= [diff_df[label].values[0] for label in ncr if label in diff_df]\n",
    "PAR= [diff_df[label].values[0] for label in par if label in diff_df]\n",
    "QSR= [diff_df[label].values[0] for label in qsr if label in diff_df]\n",
    "print(CAR)"
   ]
  },
  {
   "cell_type": "code",
   "execution_count": null,
   "metadata": {},
   "outputs": [],
   "source": [
    "import docx\n",
    "\n",
    "def getText(filename):\n",
    "    doc = docx.Documnet(filename)   \n",
    "    fullText = []\n",
    "    for para in doc.paragraphs:\n",
    "        fullText.append(para.text)\n",
    "    return '\\n'.join(fullText)"
   ]
  },
  {
   "cell_type": "code",
   "execution_count": null,
   "metadata": {},
   "outputs": [],
   "source": [
    "\n",
    "from docx import Document\n",
    "from docx2pdf import convert\n",
    "pre = '{}'\n",
    "CAR1= [diff_df[label].values[0] for label in car if label in diff_df]\n",
    "FSR1= [diff_df[label].values[0] for label in fsr if label in diff_df]\n",
    "NCR1= [diff_df[label].values[0] for label in ncr if label in diff_df]\n",
    "PAR1= [diff_df[label].values[0] for label in par if label in diff_df]\n",
    "QSR1= [diff_df[label].values[0] for label in qsr if label in diff_df]\n",
    "\n",
    "file_name= diff_df['Type of occurrence:'].values[0]\n",
    "document = Document(file_name+'.docx')\n",
    "\n",
    "if file_name == 'CAR':\n",
    "    output = [diff_df[label].values[0] for label in car if label in diff_df]\n",
    "elif file_name == 'FSR':\n",
    "    output = [diff_df[label].values[0] for label in fsr if label in diff_df]\n",
    "elif file_name == 'NCR':\n",
    "    output = [diff_df[label].values[0] for label in ncr if label in diff_df]\n",
    "elif file_name == 'PAR':\n",
    "    output = [diff_df[label].values[0] for label in par if label in diff_df]\n",
    "else:\n",
    "    output = [diff_df[label].values[0] for label in qsr if label in diff_df]\n",
    "\n",
    "length = len(output)\n",
    "print(length)\n",
    "tables = document.tables\n",
    "\n",
    "for table in tables:\n",
    "    for row in table.rows:\n",
    "        for cell in row.cells:\n",
    "            for paragraph in cell.paragraphs: \n",
    "                if len(output) != 0:\n",
    "                    to = str(output[0])\n",
    "                    if pre in paragraph.text:\n",
    "                        paragraph.text = paragraph.text.replace(pre, to)\n",
    "                        output.pop(0)\n",
    "                        print(paragraph.text)\n",
    "                    \n",
    "                else:\n",
    "                    to = ''\n",
    "                    paragraph.text = paragraph.text.replace(pre, to)\n",
    "\n",
    "document.save('test.docx') \n",
    "convert(\"test.docx\")\n",
    "#convert(\"test.docx\",\"output.pdf\") \n"
   ]
  },
  {
   "cell_type": "code",
   "execution_count": null,
   "metadata": {},
   "outputs": [],
   "source": [
    "\n",
    "# from docx import Document\n",
    "\n",
    "# pre = '{}'\n",
    "# output = ['AA','BB','CC','DD','EE','FF','GG','HH','II']\n",
    "# length = len(output)\n",
    "# document = Document('myexample.docx')\n",
    "\n",
    "# def find_replace(paragraph_keyword, draft_keyword, paragraph):\n",
    "#     if paragraph_keyword in paragraph.text:\n",
    "#         #print(\"found\")\n",
    "#         paragraph.text = paragraph.text.replace(paragraph_keyword, draft_keyword)\n",
    "# tables = document.tables\n",
    "\n",
    "# for table in tables:\n",
    "#     for row in table.rows:\n",
    "#         for cell in row.cells:\n",
    "#             for paragraph in cell.paragraphs: \n",
    "#                 if len(output) != 0:\n",
    "#                     to = output[0]\n",
    "#                     if pre in paragraph.text:\n",
    "#                         paragraph.text = paragraph.text.replace(pre, to)\n",
    "#                         output.pop(0)\n",
    "#                         print(paragraph.text)\n",
    "                    \n",
    "#                 else:\n",
    "#                     to = ''\n",
    "#                     paragraph.text = paragraph.text.replace(pre, to)\n",
    "\n",
    "# document.save('myexample.docx')"
   ]
  },
  {
   "cell_type": "code",
   "execution_count": null,
   "metadata": {},
   "outputs": [],
   "source": []
  }
 ]
}